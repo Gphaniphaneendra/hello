{
 "cells": [
  {
   "cell_type": "code",
   "execution_count": 2,
   "id": "0636d9b0-2fae-48d0-a952-9e6f7c02ad91",
   "metadata": {},
   "outputs": [
    {
     "name": "stdout",
     "output_type": "stream",
     "text": [
      "b is greater than a 222\n"
     ]
    }
   ],
   "source": [
    "a=33\n",
    "b=222\n",
    "\n",
    "if b>a:\n",
    "    print(\"b is greater than a\",b)"
   ]
  },
  {
   "cell_type": "code",
   "execution_count": 9,
   "id": "ba79c3d1-0b44-415b-a252-c1f4354638c1",
   "metadata": {},
   "outputs": [
    {
     "name": "stdout",
     "output_type": "stream",
     "text": [
      "a and b are equal\n"
     ]
    }
   ],
   "source": [
    "a=33\n",
    "b=33\n",
    "if b>a:\n",
    "    print(\"b is greater than a\")\n",
    "elif a==b: \n",
    "    print(\"a and b are equal\")"
   ]
  },
  {
   "cell_type": "code",
   "execution_count": 10,
   "id": "e3ad099e-f07c-4978-b657-d8a97f40251f",
   "metadata": {},
   "outputs": [
    {
     "name": "stdout",
     "output_type": "stream",
     "text": [
      "a is greater tha b\n"
     ]
    }
   ],
   "source": [
    "a=222\n",
    "b=44\n",
    "if b>a:\n",
    "    print(\"b is greater than a\")\n",
    "elif a==b:\n",
    "    print(\"a and b are equal\")\n",
    "else:\n",
    "    print('a is greater tha b')"
   ]
  },
  {
   "cell_type": "code",
   "execution_count": 11,
   "id": "6ce828a4-5766-48cc-b910-e162ba6361f0",
   "metadata": {},
   "outputs": [
    {
     "name": "stdout",
     "output_type": "stream",
     "text": [
      "b is not greater tha a\n"
     ]
    }
   ],
   "source": [
    "if b>a:\n",
    "    print(\"b is greater than a\")\n",
    "else:\n",
    "    print(\"b is not greater tha a\")"
   ]
  },
  {
   "cell_type": "code",
   "execution_count": 14,
   "id": "39a7f65f-99f7-4084-a0ce-6cfbf4c779ac",
   "metadata": {},
   "outputs": [
    {
     "name": "stdout",
     "output_type": "stream",
     "text": [
      "a is greater than a\n",
      "a 222\n"
     ]
    }
   ],
   "source": [
    "if a>b: print(\"a is greater than a\")\n",
    "print(\"a\",a) if a>b else print(\"b\")"
   ]
  },
  {
   "cell_type": "code",
   "execution_count": 15,
   "id": "e21e1419-c8ad-4a09-8def-9dfb703024b5",
   "metadata": {},
   "outputs": [
    {
     "name": "stdout",
     "output_type": "stream",
     "text": [
      "welcome\n",
      "to\n",
      "python programming language\n"
     ]
    }
   ],
   "source": [
    "flag=True\n",
    "if flag==True:\n",
    "    print(\"welcome\")\n",
    "    print(\"to\")\n",
    "    print(\"python programming language\")"
   ]
  },
  {
   "cell_type": "code",
   "execution_count": 17,
   "id": "ce0c69e7-d183-4ee2-81ad-5b1018ec32df",
   "metadata": {},
   "outputs": [],
   "source": [
    "flag=False\n",
    "if flag==True:\n",
    "    print(\"welcome\")\n",
    "    print(\"to\")"
   ]
  },
  {
   "cell_type": "code",
   "execution_count": 19,
   "id": "b6216cf7-4858-4a6d-80ad-c113070af817",
   "metadata": {},
   "outputs": [
    {
     "name": "stdout",
     "output_type": "stream",
     "text": [
      "i is greater than to 15\n",
      "im in else block\n"
     ]
    }
   ],
   "source": [
    "i=20\n",
    "if (i<15):\n",
    "    print(\"i is smaller than 15\")\n",
    "else:\n",
    "    print(\"i is greater than to 15\")\n",
    "    print(\"im in else block\")"
   ]
  },
  {
   "cell_type": "code",
   "execution_count": 21,
   "id": "e1c74144-201d-412e-b0ef-07728c3b988d",
   "metadata": {},
   "outputs": [
    {
     "name": "stdout",
     "output_type": "stream",
     "text": [
      "i is smaller than 15\n",
      "i is smaller than 15\n"
     ]
    }
   ],
   "source": [
    "i=10\n",
    "if (i==10):\n",
    "    if i<15:\n",
    "        print(\"i is smaller than 15\")\n",
    "    if i<12:\n",
    "        print(\"i is smaller than 15\")\n",
    "    else:\n",
    "        print(\"i is greater than 15\")"
   ]
  },
  {
   "cell_type": "code",
   "execution_count": 3,
   "id": "444a6368-7a93-4488-a6f7-a66c4c210003",
   "metadata": {},
   "outputs": [
    {
     "name": "stdin",
     "output_type": "stream",
     "text": [
      "enter the x value 4\n",
      "enter the y value 3\n",
      "enter the z value 9\n"
     ]
    },
    {
     "name": "stdout",
     "output_type": "stream",
     "text": [
      "z is the highest than x,y 9\n"
     ]
    }
   ],
   "source": [
    "x=int(input(\"enter the x value\"))\n",
    "y=int(input(\"enter the y value\"))\n",
    "z=int(input(\"enter the z value\"))\n",
    "if x>y and x>z:\n",
    "    print(\"x is greater than remaining two values\",x)\n",
    "elif y>z:\n",
    "    print(\"y is greater than z\",y)\n",
    "else:\n",
    "    print(\"z is the highest than x,y\",z)"
   ]
  },
  {
   "cell_type": "code",
   "execution_count": 11,
   "id": "223d7b65-24c9-441a-bcaa-0bf957470370",
   "metadata": {},
   "outputs": [
    {
     "name": "stdin",
     "output_type": "stream",
     "text": [
      "enter the x value 10\n",
      "enter the y value 11\n",
      "enter the z value 12\n"
     ]
    },
    {
     "name": "stdout",
     "output_type": "stream",
     "text": [
      "11\n",
      "the total average 3 subjects 11 %\n",
      "study weLl\n"
     ]
    }
   ],
   "source": [
    "x=int(input(\"enter the x value\"))\n",
    "y=int(input(\"enter the y value\"))\n",
    "z=int(input(\"enter the z value\"))\n",
    "\n",
    "a=(x+y+z)/3\n",
    "b=int(a)\n",
    "print(b)\n",
    "print(\"the total average 3 subjects\",b,\"%\")\n",
    "\n",
    "if b>9 and b<=10:\n",
    "    print(\"A\")\n",
    "elif b>8 and b<=9:\n",
    "    print(\"b\")\n",
    "elif b>7 and b<=8:\n",
    "    print(\"c\")\n",
    "else:\n",
    "    print(\"study weLl\")\n"
   ]
  },
  {
   "cell_type": "code",
   "execution_count": 14,
   "id": "f7b4e3c9-14b6-45aa-a917-79ebdb382dbd",
   "metadata": {},
   "outputs": [
    {
     "name": "stdout",
     "output_type": "stream",
     "text": [
      "welcome to daniel airport\n"
     ]
    },
    {
     "name": "stdin",
     "output_type": "stream",
     "text": [
      "how many pounds does your suitcase weigh? 32\n"
     ]
    }
   ],
   "source": [
    "print(\"welcome to daniel airport\")\n",
    "weight=float(input(\"how many pounds does your suitcase weigh?\"))\n",
    "if weight>50:\n",
    "    print(\"there is a $25 charge for luggage and already deducted from your credit card,don't get surprise\")\n",
    "    print(\"thank you and enjoy the journey boss\")"
   ]
  },
  {
   "cell_type": "code",
   "execution_count": 17,
   "id": "0a6141c0-184c-432e-af32-9481a35cb5b0",
   "metadata": {},
   "outputs": [
    {
     "name": "stdin",
     "output_type": "stream",
     "text": [
      "enter the valeu -66\n"
     ]
    },
    {
     "name": "stdout",
     "output_type": "stream",
     "text": [
      "balance is in neagtive mode please add funds now or you will be charged a penalty\n"
     ]
    }
   ],
   "source": [
    "balance=int(input(\"enter the valeu\"))\n",
    "if balance<0:\n",
    "    print(\"balance is in neagtive mode please add funds now or you will be charged a penalty\")"
   ]
  },
  {
   "cell_type": "code",
   "execution_count": 19,
   "id": "c4b8ade9-08ab-48f6-adb6-38d3737eb54f",
   "metadata": {},
   "outputs": [
    {
     "name": "stdin",
     "output_type": "stream",
     "text": [
      "enter the value 88\n"
     ]
    },
    {
     "name": "stdout",
     "output_type": "stream",
     "text": [
      "even number\n"
     ]
    }
   ],
   "source": [
    "n=int(input(\"enter the value\"))\n",
    "if n%2==0:\n",
    "    print(\"even number\")\n",
    "else:\n",
    "    print(\"odd numbre\")"
   ]
  },
  {
   "cell_type": "code",
   "execution_count": 20,
   "id": "e107c84b-303f-498b-81e5-3458d5f19a09",
   "metadata": {},
   "outputs": [
    {
     "name": "stdout",
     "output_type": "stream",
     "text": [
      "True\n",
      "False\n"
     ]
    }
   ],
   "source": [
    "x=10\n",
    "print(isinstance(x,int))\n",
    "print(isinstance(x,str))"
   ]
  },
  {
   "cell_type": "code",
   "execution_count": 21,
   "id": "9f3e6583-3165-4b36-aee5-0c0af5bc3e41",
   "metadata": {},
   "outputs": [
    {
     "name": "stdout",
     "output_type": "stream",
     "text": [
      "True\n",
      "False\n"
     ]
    }
   ],
   "source": [
    "n=\"daniel\"\n",
    "print(isinstance(n,str))\n",
    "print(isinstance(n,int))"
   ]
  },
  {
   "cell_type": "code",
   "execution_count": 23,
   "id": "b44585ee-506a-479b-8bd7-2eab8b4f0eb7",
   "metadata": {},
   "outputs": [
    {
     "name": "stdout",
     "output_type": "stream",
     "text": [
      "its other type\n"
     ]
    }
   ],
   "source": [
    "x=11\n",
    "if isinstance(x,str):\n",
    "    print(\"integer data type\")\n",
    "else:\n",
    "    print(\"its other type\")"
   ]
  },
  {
   "cell_type": "code",
   "execution_count": 25,
   "id": "29dc1e3e-7ff9-471f-8249-8396af20a338",
   "metadata": {},
   "outputs": [
    {
     "name": "stdout",
     "output_type": "stream",
     "text": [
      "it is other type\n"
     ]
    }
   ],
   "source": [
    "if isinstance(x,str):\n",
    "    print(\"string data type\")\n",
    "else:\n",
    "    print(\"it is other type\")"
   ]
  },
  {
   "cell_type": "code",
   "execution_count": 26,
   "id": "25cc383f-8b1c-4b80-8de0-7f7b0cc936f0",
   "metadata": {},
   "outputs": [
    {
     "ename": "NameError",
     "evalue": "name 'xyz' is not defined",
     "output_type": "error",
     "traceback": [
      "\u001b[1;31m---------------------------------------------------------------------------\u001b[0m",
      "\u001b[1;31mNameError\u001b[0m                                 Traceback (most recent call last)",
      "Cell \u001b[1;32mIn[26], line 1\u001b[0m\n\u001b[1;32m----> 1\u001b[0m \u001b[38;5;28;01mif\u001b[39;00m \u001b[38;5;28misinstance\u001b[39m(\u001b[43mxyz\u001b[49m,\u001b[38;5;28mint\u001b[39m):\n\u001b[0;32m      2\u001b[0m     \u001b[38;5;28mprint\u001b[39m(\u001b[38;5;124m\"\u001b[39m\u001b[38;5;124minteger data type\u001b[39m\u001b[38;5;124m\"\u001b[39m)\n\u001b[0;32m      3\u001b[0m \u001b[38;5;28;01melse\u001b[39;00m:\n",
      "\u001b[1;31mNameError\u001b[0m: name 'xyz' is not defined"
     ]
    }
   ],
   "source": [
    "if isinstance(xyz,int):\n",
    "    print(\"integer data type\")\n",
    "else:\n",
    "    print(\"it is string data type\")"
   ]
  },
  {
   "cell_type": "code",
   "execution_count": 29,
   "id": "1653e258-c45d-4be4-9e41-fdc7f48c456e",
   "metadata": {},
   "outputs": [
    {
     "name": "stdin",
     "output_type": "stream",
     "text": [
      "is python teaching by daniel,yes or not YES\n"
     ]
    },
    {
     "name": "stdout",
     "output_type": "stream",
     "text": [
      "welcome ot python sessions by daniel,please dont sleep\n",
      "thanks\n"
     ]
    }
   ],
   "source": [
    "answer=input(\"is python teaching by daniel,yes or not\")\n",
    "if answer==\"YES\":\n",
    "    print(\"welcome ot python sessions by daniel,please dont sleep\")\n",
    "else:\n",
    "    print(\"i guess you are not my student\")\n",
    "print(\"thanks\")"
   ]
  },
  {
   "cell_type": "code",
   "execution_count": 31,
   "id": "ad0ba60b-f501-47ac-81df-0a05cae30a49",
   "metadata": {},
   "outputs": [
    {
     "name": "stdout",
     "output_type": "stream",
     "text": [
      "welcome to AiNextGen company..\n"
     ]
    },
    {
     "name": "stdin",
     "output_type": "stream",
     "text": [
      "Enter the value phani\n"
     ]
    },
    {
     "name": "stdout",
     "output_type": "stream",
     "text": [
      "access granted,enjoy guru\n"
     ]
    }
   ],
   "source": [
    "print(\"welcome to AiNextGen company..\")\n",
    "allowed=[\"phani\",\"hari\"\"chiru\"]\n",
    "username=input(\"Enter the value\")\n",
    "if username in allowed:\n",
    "    print(\"access granted,enjoy guru\")\n",
    "else:\n",
    "    print(\"sorry boss,access deined : contact admin team.namaskaar\")"
   ]
  },
  {
   "cell_type": "code",
   "execution_count": 34,
   "id": "e1f961f4-febd-468b-9634-eaff28be2d1f",
   "metadata": {},
   "outputs": [
    {
     "name": "stdin",
     "output_type": "stream",
     "text": [
      "enter the number 3\n"
     ]
    },
    {
     "name": "stdout",
     "output_type": "stream",
     "text": [
      "no it is a little higher than guessed number\n"
     ]
    }
   ],
   "source": [
    "number=4\n",
    "guess=int(input(\"enter the number\"))\n",
    "if guess==number:\n",
    "    print(\"congratulations dude,you guessed it but no prizes\")\n",
    "elif guess<number:\n",
    "    print(\"no it is a little higher than guessed number\")\n",
    "else:\n",
    "    print(\"no it is a little lower than guessed number\")"
   ]
  },
  {
   "cell_type": "code",
   "execution_count": 38,
   "id": "67504b6e-c93c-4f2d-8f67-7f3ced63ac3c",
   "metadata": {},
   "outputs": [
    {
     "name": "stdin",
     "output_type": "stream",
     "text": [
      "what is the time 0\n"
     ]
    },
    {
     "name": "stdout",
     "output_type": "stream",
     "text": [
      "good morning\n"
     ]
    }
   ],
   "source": [
    "x=int(input(\"what is the time\"))\n",
    "if x<10:\n",
    "    print(\"good morning\")\n",
    "elif x<12:\n",
    "    print(\"soon time for lunch\")\n",
    "elif x<18:\n",
    "    print(\"good day\")\n",
    "elif x<22:\n",
    "    print(\"good evening\")\n",
    "elif x>=22 and x<=24:\n",
    "    print(\"good night\")\n",
    "else:\n",
    "    print(\"dude,please buy clock and learn timigs,good day\")"
   ]
  },
  {
   "cell_type": "code",
   "execution_count": 40,
   "id": "7c1c506f-89a3-4aa2-b895-9a286992e0dd",
   "metadata": {},
   "outputs": [
    {
     "name": "stdin",
     "output_type": "stream",
     "text": [
      "enter the value 3\n"
     ]
    },
    {
     "name": "stdout",
     "output_type": "stream",
     "text": [
      "3\n"
     ]
    },
    {
     "name": "stdin",
     "output_type": "stream",
     "text": [
      "enter the value 65\n"
     ]
    },
    {
     "name": "stdout",
     "output_type": "stream",
     "text": [
      "65\n"
     ]
    },
    {
     "name": "stdin",
     "output_type": "stream",
     "text": [
      "enter the value 7\n"
     ]
    },
    {
     "name": "stdout",
     "output_type": "stream",
     "text": [
      "7\n"
     ]
    },
    {
     "name": "stdin",
     "output_type": "stream",
     "text": [
      "enter the value 8\n"
     ]
    },
    {
     "name": "stdout",
     "output_type": "stream",
     "text": [
      "8\n"
     ]
    },
    {
     "name": "stdin",
     "output_type": "stream",
     "text": [
      "enter the value 9\n"
     ]
    },
    {
     "name": "stdout",
     "output_type": "stream",
     "text": [
      "9\n"
     ]
    },
    {
     "name": "stdin",
     "output_type": "stream",
     "text": [
      "enter the value 54\n"
     ]
    },
    {
     "name": "stdout",
     "output_type": "stream",
     "text": [
      "54\n"
     ]
    },
    {
     "name": "stdin",
     "output_type": "stream",
     "text": [
      "enter the value 4\n"
     ]
    },
    {
     "name": "stdout",
     "output_type": "stream",
     "text": [
      "4\n",
      "thank you\n"
     ]
    }
   ],
   "source": [
    "while True:\n",
    "    n=input(\"enter the value\")\n",
    "    print(n)\n",
    "    if n==\"4\":\n",
    "        break\n",
    "print(\"thank you\")"
   ]
  },
  {
   "cell_type": "code",
   "execution_count": 46,
   "id": "cbcdb8be-f281-4e0a-bbb3-4264caadf5b5",
   "metadata": {},
   "outputs": [
    {
     "ename": "SyntaxError",
     "evalue": "invalid syntax (2500534588.py, line 8)",
     "output_type": "error",
     "traceback": [
      "\u001b[1;36m  Cell \u001b[1;32mIn[46], line 8\u001b[1;36m\u001b[0m\n\u001b[1;33m    elif guess<number:\u001b[0m\n\u001b[1;37m    ^\u001b[0m\n\u001b[1;31mSyntaxError\u001b[0m\u001b[1;31m:\u001b[0m invalid syntax\n"
     ]
    }
   ],
   "source": [
    "number =4\n",
    "running = True\n",
    "while running:\n",
    "    guess=int(input(\"ener the number blw 1 to 10\"))\n",
    "    if guess==number:\n",
    "        print(\"congratulations dude,you guessed the right no\")\n",
    "    running=False\n",
    "    elif guess<number:\n",
    "        print(\"no it is alittle higher than that\")\n",
    "    else:\n",
    "        print(\"No i is lower\")\n",
    "else:\n",
    "    print(\"the while loop is over\")"
   ]
  },
  {
   "cell_type": "code",
   "execution_count": 47,
   "id": "db0956de-776c-4fb2-97ec-2262af403abc",
   "metadata": {},
   "outputs": [
    {
     "name": "stdout",
     "output_type": "stream",
     "text": [
      "2\n",
      "4\n",
      "6\n",
      "8\n",
      "10\n",
      "12\n",
      "14\n",
      "16\n",
      "18\n"
     ]
    }
   ],
   "source": [
    "for x in range(1,20):\n",
    "    if (x%2==0):\n",
    "        print(x)"
   ]
  },
  {
   "cell_type": "code",
   "execution_count": 48,
   "id": "62cd3274-45d8-47b4-94dd-a308974477e9",
   "metadata": {},
   "outputs": [
    {
     "name": "stdout",
     "output_type": "stream",
     "text": [
      "1\n",
      "2\n",
      "3\n",
      "4\n",
      "5\n",
      "6\n",
      "7\n",
      "8\n",
      "9\n",
      "10\n",
      "11\n",
      "12\n",
      "13\n",
      "14\n",
      "15\n",
      "16\n",
      "17\n",
      "18\n",
      "19\n"
     ]
    }
   ],
   "source": [
    "for x in range(1,20):\n",
    "    print(x)"
   ]
  },
  {
   "cell_type": "code",
   "execution_count": 49,
   "id": "515bbfd2-567d-4d04-be09-06b814873a70",
   "metadata": {},
   "outputs": [
    {
     "name": "stdout",
     "output_type": "stream",
     "text": [
      "12\n",
      "14\n",
      "16\n",
      "18\n",
      "20\n"
     ]
    }
   ],
   "source": [
    "for x in range(11,22):\n",
    "    if (x%2==0):\n",
    "        print(x)"
   ]
  },
  {
   "cell_type": "code",
   "execution_count": 51,
   "id": "f0c64f69-eb0b-4dbb-b5c2-b93c041efe05",
   "metadata": {},
   "outputs": [
    {
     "name": "stdout",
     "output_type": "stream",
     "text": [
      "12\n",
      "14\n",
      "16\n",
      "18\n",
      "20\n"
     ]
    }
   ],
   "source": [
    "for x in range(11,22):\n",
    "    if (x%2==0 or x%4==0):\n",
    "        print(x)"
   ]
  },
  {
   "cell_type": "code",
   "execution_count": 54,
   "id": "5962697f-08c8-4720-b32c-899b9677e690",
   "metadata": {},
   "outputs": [
    {
     "name": "stdout",
     "output_type": "stream",
     "text": [
      "1 <class 'int'>\n",
      "2.33 <class 'float'>\n",
      "(1+2j) <class 'complex'>\n",
      "True <class 'bool'>\n",
      "daniel <class 'str'>\n",
      "[1, 2, 3] <class 'list'>\n"
     ]
    }
   ],
   "source": [
    "data=[1,2.33,1+2J,True,\"daniel\",[1,2,3]]\n",
    "for i in data:\n",
    "    print(i  ,  type(i))"
   ]
  },
  {
   "cell_type": "code",
   "execution_count": 5,
   "id": "d28925ac-ea28-4129-943f-30d9b510ca1f",
   "metadata": {},
   "outputs": [
    {
     "name": "stdout",
     "output_type": "stream",
     "text": [
      "[]\n"
     ]
    },
    {
     "name": "stdin",
     "output_type": "stream",
     "text": [
      "enter the value 4\n",
      "enter the value 3\n",
      "enter the value 5\n",
      "enter the value 4\n",
      "enter the value 3\n",
      "enter the value 3\n",
      "enter the value \n"
     ]
    },
    {
     "name": "stdout",
     "output_type": "stream",
     "text": [
      "['4', '3', '5', '4', '3', '3']\n"
     ]
    }
   ],
   "source": [
    "lines=[]\n",
    "print(lines)\n",
    "while True:\n",
    "    i=input(\"enter the value\")\n",
    "    if i:\n",
    "        lines.append(i)\n",
    "    else:\n",
    "        break\n",
    "print(lines)"
   ]
  },
  {
   "cell_type": "code",
   "execution_count": 8,
   "id": "483e3afb-5ad4-482b-8275-aec442077be0",
   "metadata": {},
   "outputs": [
    {
     "name": "stdin",
     "output_type": "stream",
     "text": [
      "enter the string,mixed with numbers pahni\n"
     ]
    },
    {
     "name": "stdout",
     "output_type": "stream",
     "text": [
      "5\n"
     ]
    }
   ],
   "source": [
    "s=input(\"enter the string,mixed with numbers\")\n",
    "i=0\n",
    "for c in s:\n",
    "    if c.isalpha():\n",
    "        i=i+1\n",
    "\n",
    "\n",
    "print(i)"
   ]
  },
  {
   "cell_type": "code",
   "execution_count": 17,
   "id": "d2ba49a6-b025-4c7a-bbf1-8798dfa5ecee",
   "metadata": {},
   "outputs": [
    {
     "name": "stdin",
     "output_type": "stream",
     "text": [
      "enter the string 4574533\n"
     ]
    },
    {
     "name": "stdout",
     "output_type": "stream",
     "text": [
      "1 4\n",
      "2 5\n",
      "3 7\n",
      "4 4\n",
      "5 5\n",
      "6 3\n",
      "7 3\n"
     ]
    }
   ],
   "source": [
    "s=input(\"enter the string\")\n",
    "i=0\n",
    "\n",
    "for c in s:\n",
    "    if c.isdigit():\n",
    "        i=i+1\n",
    "        print(i,c)\n",
    "\n",
    "\n",
    "\n"
   ]
  },
  {
   "cell_type": "code",
   "execution_count": 18,
   "id": "4014d15a-15c5-47e4-832d-508a1debf4f2",
   "metadata": {},
   "outputs": [
    {
     "name": "stdin",
     "output_type": "stream",
     "text": [
      "enter any alpahbet d\n"
     ]
    },
    {
     "name": "stdout",
     "output_type": "stream",
     "text": [
      "d is a constant\n"
     ]
    }
   ],
   "source": [
    "\n",
    "i=input(\"enter any alpahbet\")\n",
    "q=(\"a\",\"e\",\"i\",\"o\",\"u\")\n",
    "if i in q:\n",
    "    print(i,\"is a vowel\")\n",
    "else:\n",
    "    print(i,\"is a constant\")"
   ]
  },
  {
   "cell_type": "code",
   "execution_count": 21,
   "id": "893453a0-6ad4-45c5-bdce-35374fa19453",
   "metadata": {},
   "outputs": [
    {
     "name": "stdin",
     "output_type": "stream",
     "text": [
      "enter any alphabet letter f\n"
     ]
    },
    {
     "name": "stdout",
     "output_type": "stream",
     "text": [
      "f is a consonat\n"
     ]
    }
   ],
   "source": [
    "i=input(\"enter any alphabet letter\")\n",
    "q=(\"a\",\"e\",\"i\",\"o\",\"u\")\n",
    "if len(i)==1:\n",
    "    if i in q:\n",
    "        print(i,\"is a vowel\")\n",
    "    else:\n",
    "        print(i,\"is a consonat\")"
   ]
  },
  {
   "cell_type": "code",
   "execution_count": 25,
   "id": "715e88ae-b41e-42e8-9f05-5dba27162df6",
   "metadata": {},
   "outputs": [
    {
     "name": "stdout",
     "output_type": "stream",
     "text": [
      "list of months: january,february,march,april,may,june,july,august,september,october,november,december\n"
     ]
    },
    {
     "name": "stdin",
     "output_type": "stream",
     "text": [
      "enter the month phani\n"
     ]
    },
    {
     "name": "stdout",
     "output_type": "stream",
     "text": [
      "any month name like phani ?\n"
     ]
    }
   ],
   "source": [
    "print(\"list of months: january,february,march,april,may,june,july,august,september,october,november,december\")\n",
    "month=input(\"enter the month\")\n",
    "if month==\"February\":\n",
    "    print(\"no of days is 28/29days\")\n",
    "elif month in [\"april\",\"june\",\"september\",\"november\"]:\n",
    "    print(\"no of days : 30 days\")\n",
    "elif month in [\"january\",\"march\",\"may\",\"july\",\"august\",\"october\",\"december\"]:\n",
    "    print(\"no of days 31 days\")\n",
    "else:\n",
    "    print(\"any month name like\",month,\"?\")"
   ]
  },
  {
   "cell_type": "code",
   "execution_count": 27,
   "id": "b55aaa41-4baf-4a43-af50-eb1bbcea1ef9",
   "metadata": {},
   "outputs": [
    {
     "name": "stdin",
     "output_type": "stream",
     "text": [
      "Enter hte value 6\n"
     ]
    },
    {
     "name": "stdout",
     "output_type": "stream",
     "text": [
      "6 X 1 = 6\n",
      "6 X 2 = 12\n",
      "6 X 3 = 18\n",
      "6 X 4 = 24\n",
      "6 X 5 = 30\n",
      "6 X 6 = 36\n",
      "6 X 7 = 42\n",
      "6 X 8 = 48\n",
      "6 X 9 = 54\n",
      "6 X 10 = 60\n",
      "6 X 11 = 66\n",
      "6 X 12 = 72\n"
     ]
    }
   ],
   "source": [
    "n=int(input(\"Enter hte value\"))\n",
    "for i in range(1,13):\n",
    "    print(n,\"X\",i,\"=\",n*i)"
   ]
  },
  {
   "cell_type": "code",
   "execution_count": 2,
   "id": "692864c2-198c-4d33-bc5b-1baafc749053",
   "metadata": {},
   "outputs": [
    {
     "name": "stdout",
     "output_type": "stream",
     "text": [
      "daniel\n",
      "abhishek\n"
     ]
    }
   ],
   "source": [
    "x=[\"daniel\",\"abhishek\"]\n",
    "for i in x:\n",
    "    print(i)"
   ]
  },
  {
   "cell_type": "code",
   "execution_count": 4,
   "id": "36c756d9-9f41-46bc-8f44-db85306e55b9",
   "metadata": {},
   "outputs": [
    {
     "name": "stdout",
     "output_type": "stream",
     "text": [
      "PHANI\n",
      "ABHISHEK\n"
     ]
    }
   ],
   "source": [
    "x=[\"phani\",\"abhishek\"]\n",
    "for i in x:\n",
    "    print(i.upper())"
   ]
  },
  {
   "cell_type": "code",
   "execution_count": 6,
   "id": "c61a5d86-0fee-4bdf-870f-47851cf822d3",
   "metadata": {},
   "outputs": [
    {
     "name": "stdout",
     "output_type": "stream",
     "text": [
      "phani\n",
      "abhishek\n"
     ]
    }
   ],
   "source": [
    "x=[\"PHANI\",\"ABHISHEK\"]\n",
    "for i in x:\n",
    "    print(i.lower())"
   ]
  },
  {
   "cell_type": "code",
   "execution_count": 8,
   "id": "cbf968c5-c80b-4aeb-9ed1-5d7138d31247",
   "metadata": {},
   "outputs": [
    {
     "name": "stdout",
     "output_type": "stream",
     "text": [
      "1\n",
      "2\n",
      "3\n"
     ]
    }
   ],
   "source": [
    "x=[\"1\",\"2\",\"3\"]\n",
    "for i in x:\n",
    "    print(i.upper())"
   ]
  },
  {
   "cell_type": "code",
   "execution_count": 9,
   "id": "2587d910-f6f5-4089-b75b-5d0da06b0822",
   "metadata": {},
   "outputs": [
    {
     "name": "stdout",
     "output_type": "stream",
     "text": [
      "1\n",
      "3\n",
      "5\n",
      "7\n",
      "9\n",
      "11\n",
      "13\n",
      "15\n",
      "17\n",
      "19\n"
     ]
    }
   ],
   "source": [
    "i=1\n",
    "while i<=20:\n",
    "    if i%2==0:\n",
    "        break\n",
    "    print(i)\n",
    "    i=i+2"
   ]
  },
  {
   "cell_type": "code",
   "execution_count": 10,
   "id": "86c6064a-c647-4dd9-ba53-b0487d110d6f",
   "metadata": {},
   "outputs": [
    {
     "name": "stdout",
     "output_type": "stream",
     "text": [
      "1\n"
     ]
    }
   ],
   "source": [
    "i=1\n",
    "while i<=20:\n",
    "    if i%3==0:\n",
    "        break\n",
    "    print(i)\n",
    "    i=i+2"
   ]
  },
  {
   "cell_type": "code",
   "execution_count": 11,
   "id": "9117b8dd-11fc-4959-a084-82b6e9323353",
   "metadata": {},
   "outputs": [],
   "source": [
    "i=1\n",
    "while False:\n",
    "    if i%3==0:\n",
    "        break\n",
    "    print(i)\n",
    "    i=i+2"
   ]
  },
  {
   "cell_type": "code",
   "execution_count": 12,
   "id": "c38ed62d-7d58-4deb-b36e-12139132e11f",
   "metadata": {},
   "outputs": [
    {
     "name": "stdout",
     "output_type": "stream",
     "text": [
      "0\n",
      "0\n",
      "1\n",
      "0\n",
      "2\n"
     ]
    }
   ],
   "source": [
    "i=0\n",
    "while i<5:\n",
    "    print(i)\n",
    "    i=i+1\n",
    "    if i==3:\n",
    "        break\n",
    "    else:\n",
    "        print(0)"
   ]
  },
  {
   "cell_type": "code",
   "execution_count": 13,
   "id": "2c6ef7ea-7810-4888-bc70-47a2f6011bf6",
   "metadata": {},
   "outputs": [
    {
     "name": "stdout",
     "output_type": "stream",
     "text": [
      "0\n",
      "1\n",
      "2\n",
      "0\n"
     ]
    }
   ],
   "source": [
    "i=0\n",
    "while i<3:\n",
    "    print(i)\n",
    "    i=i+1\n",
    "else:\n",
    "    print(0)"
   ]
  },
  {
   "cell_type": "code",
   "execution_count": 16,
   "id": "4d4e7f98-6d9e-440d-a231-c6300c5ff173",
   "metadata": {},
   "outputs": [
    {
     "name": "stdout",
     "output_type": "stream",
     "text": [
      "P Y T H O N "
     ]
    }
   ],
   "source": [
    "x=\"PYTHON\"\n",
    "for i in x:\n",
    "    print(i,end=\" \")"
   ]
  },
  {
   "cell_type": "code",
   "execution_count": 18,
   "id": "59787b93-3c2c-4b3f-8968-b9df80ea63a3",
   "metadata": {},
   "outputs": [
    {
     "name": "stdout",
     "output_type": "stream",
     "text": [
      "p y t h o n "
     ]
    }
   ],
   "source": [
    "x=\"python\"\n",
    "for i in x:\n",
    "    print(i,end=\" \")"
   ]
  },
  {
   "cell_type": "code",
   "execution_count": 20,
   "id": "25746810-9f5b-47fc-a2cc-7718ad7dcc80",
   "metadata": {},
   "outputs": [
    {
     "name": "stdout",
     "output_type": "stream",
     "text": [
      "PZ YZ TZ HZ OZ NZ "
     ]
    }
   ],
   "source": [
    "x=\"PYTHON\"\n",
    "for i in x:\n",
    "    print(i+\"Z\",end=\" \")"
   ]
  },
  {
   "cell_type": "code",
   "execution_count": 21,
   "id": "8803f6bd-ff6c-4251-87dc-8950eace6679",
   "metadata": {},
   "outputs": [],
   "source": [
    "x=\"python\"\n",
    "if i in x:\n",
    "    print(i)"
   ]
  },
  {
   "cell_type": "code",
   "execution_count": 23,
   "id": "3ec403b2-f960-4ca9-8798-5ca2e6305a67",
   "metadata": {},
   "outputs": [],
   "source": [
    "x=\"python\"\n",
    "while i in x:\n",
    "    print(i)"
   ]
  },
  {
   "cell_type": "code",
   "execution_count": 24,
   "id": "b512ad42-1487-46c3-984e-aa24d6000ff8",
   "metadata": {},
   "outputs": [],
   "source": [
    "x=\"python\"\n",
    "i=\"a\"\n",
    "while i in x:\n",
    "    print(i)"
   ]
  },
  {
   "cell_type": "code",
   "execution_count": 31,
   "id": "616f2058-89ba-4074-92da-c74a4f32d454",
   "metadata": {},
   "outputs": [
    {
     "name": "stdout",
     "output_type": "stream",
     "text": [
      "0\n",
      "1\n",
      "2\n",
      "3\n",
      "4\n",
      "5\n",
      "6\n",
      "7\n",
      "8\n",
      "9\n",
      "10\n"
     ]
    }
   ],
   "source": [
    "x=\"abcd\"\n",
    "for i in range(11):\n",
    "    print(i)#end=\"\""
   ]
  },
  {
   "cell_type": "code",
   "execution_count": 32,
   "id": "3418a663-39a6-4379-98e2-7f2ba9bfd756",
   "metadata": {},
   "outputs": [
    {
     "name": "stdout",
     "output_type": "stream",
     "text": [
      "0\n",
      "1\n",
      "2\n",
      "3\n"
     ]
    }
   ],
   "source": [
    "x=\"abcd\"\n",
    "for i in range(len(x)):\n",
    "    print(i)"
   ]
  },
  {
   "cell_type": "code",
   "execution_count": 37,
   "id": "11fe2b79-1bfb-4998-b3b0-0f2b72fd7dd8",
   "metadata": {},
   "outputs": [
    {
     "name": "stdout",
     "output_type": "stream",
     "text": [
      "a b c d "
     ]
    }
   ],
   "source": [
    "x=\"abcd\"\n",
    "for i in range(len(x)):\n",
    "    print(x[i],end=\" \")"
   ]
  },
  {
   "cell_type": "code",
   "execution_count": 38,
   "id": "9c23d9cf-95ac-4f45-b019-9d4bb76f83ec",
   "metadata": {},
   "outputs": [
    {
     "ename": "TypeError",
     "evalue": "'int' object is not subscriptable",
     "output_type": "error",
     "traceback": [
      "\u001b[1;31m---------------------------------------------------------------------------\u001b[0m",
      "\u001b[1;31mTypeError\u001b[0m                                 Traceback (most recent call last)",
      "Cell \u001b[1;32mIn[38], line 3\u001b[0m\n\u001b[0;32m      1\u001b[0m x\u001b[38;5;241m=\u001b[39m\u001b[38;5;124m\"\u001b[39m\u001b[38;5;124mabcd\u001b[39m\u001b[38;5;124m\"\u001b[39m\n\u001b[0;32m      2\u001b[0m \u001b[38;5;28;01mfor\u001b[39;00m i \u001b[38;5;129;01min\u001b[39;00m \u001b[38;5;28mrange\u001b[39m(\u001b[38;5;28mlen\u001b[39m(x)):\n\u001b[1;32m----> 3\u001b[0m     \u001b[38;5;28mprint\u001b[39m(\u001b[43mi\u001b[49m\u001b[43m[\u001b[49m\u001b[43mx\u001b[49m\u001b[43m]\u001b[49m)\n",
      "\u001b[1;31mTypeError\u001b[0m: 'int' object is not subscriptable"
     ]
    }
   ],
   "source": [
    "x=\"abcd\"\n",
    "for i in range(len(x)):\n",
    "    print(i[x])"
   ]
  },
  {
   "cell_type": "code",
   "execution_count": 40,
   "id": "74a5e641-032d-4697-9f4c-0e28d882241f",
   "metadata": {},
   "outputs": [
    {
     "name": "stdout",
     "output_type": "stream",
     "text": [
      "1\n",
      "2\n",
      "3\n"
     ]
    }
   ],
   "source": [
    "x=\"123\"\n",
    "for i in x:\n",
    "    print(i)"
   ]
  },
  {
   "cell_type": "code",
   "execution_count": 41,
   "id": "7ff35ca5-4338-4735-a8db-1308f8e0a9cb",
   "metadata": {},
   "outputs": [],
   "source": [
    "for i in range(0):\n",
    "        print(i)"
   ]
  },
  {
   "cell_type": "code",
   "execution_count": 42,
   "id": "eea631db-6cf5-4e7b-b04b-83979d165a94",
   "metadata": {},
   "outputs": [
    {
     "name": "stdout",
     "output_type": "stream",
     "text": [
      "0\n",
      "1\n"
     ]
    }
   ],
   "source": [
    "for i in range(2):\n",
    "    print(i)"
   ]
  },
  {
   "cell_type": "code",
   "execution_count": 43,
   "id": "e12faf31-af74-4846-96b1-175680c4ee02",
   "metadata": {},
   "outputs": [
    {
     "ename": "TypeError",
     "evalue": "'float' object cannot be interpreted as an integer",
     "output_type": "error",
     "traceback": [
      "\u001b[1;31m---------------------------------------------------------------------------\u001b[0m",
      "\u001b[1;31mTypeError\u001b[0m                                 Traceback (most recent call last)",
      "Cell \u001b[1;32mIn[43], line 1\u001b[0m\n\u001b[1;32m----> 1\u001b[0m \u001b[38;5;28;01mfor\u001b[39;00m i \u001b[38;5;129;01min\u001b[39;00m \u001b[38;5;28;43mrange\u001b[39;49m\u001b[43m(\u001b[49m\u001b[38;5;241;43m2.0\u001b[39;49m\u001b[43m)\u001b[49m:\n\u001b[0;32m      2\u001b[0m     \u001b[38;5;28mprint\u001b[39m(i)\n",
      "\u001b[1;31mTypeError\u001b[0m: 'float' object cannot be interpreted as an integer"
     ]
    }
   ],
   "source": [
    "for i in range(2.0):\n",
    "    print(i)"
   ]
  },
  {
   "cell_type": "code",
   "execution_count": 45,
   "id": "19cd77e8-70ba-475c-ac11-67de3a1cc881",
   "metadata": {},
   "outputs": [
    {
     "name": "stdout",
     "output_type": "stream",
     "text": [
      "0\n",
      "1\n"
     ]
    }
   ],
   "source": [
    "for i in range(int(2.0)):\n",
    "    print(i)"
   ]
  },
  {
   "cell_type": "code",
   "execution_count": 46,
   "id": "6e4d68a5-a034-4911-ad33-7f34d0b984e7",
   "metadata": {},
   "outputs": [
    {
     "name": "stdout",
     "output_type": "stream",
     "text": [
      "1\n",
      "2\n",
      "3\n"
     ]
    }
   ],
   "source": [
    "x=123\n",
    "for i in str(x):\n",
    "    print(i)"
   ]
  },
  {
   "cell_type": "code",
   "execution_count": 47,
   "id": "ede9a742-af62-4f1b-9180-c87b79153792",
   "metadata": {},
   "outputs": [
    {
     "name": "stdout",
     "output_type": "stream",
     "text": [
      " \n"
     ]
    }
   ],
   "source": [
    "for i in \" \":\n",
    "    print(i)"
   ]
  },
  {
   "cell_type": "code",
   "execution_count": 51,
   "id": "c37a5e5b-bddd-43d1-9287-764bf248b0cc",
   "metadata": {},
   "outputs": [
    {
     "name": "stdout",
     "output_type": "stream",
     "text": [
      "3\n",
      "4\n"
     ]
    }
   ],
   "source": [
    "x=2\n",
    "for i in range(x):\n",
    "    x=x+1\n",
    "    print(x)"
   ]
  },
  {
   "cell_type": "code",
   "execution_count": 50,
   "id": "b3935762-1f9b-4245-b882-fee0a76a5c46",
   "metadata": {},
   "outputs": [
    {
     "name": "stdout",
     "output_type": "stream",
     "text": [
      "0\n",
      "-2\n"
     ]
    }
   ],
   "source": [
    "x=2\n",
    "for i in range(x):\n",
    "    x-=2\n",
    "    print(x)"
   ]
  },
  {
   "cell_type": "code",
   "execution_count": 54,
   "id": "0fba5b7f-1156-4dae-b524-10487d0bbee8",
   "metadata": {},
   "outputs": [
    {
     "name": "stdout",
     "output_type": "stream",
     "text": [
      "0\n",
      "1\n",
      "2\n",
      "3\n",
      "4\n",
      "5\n",
      "6\n",
      "7\n",
      "8\n",
      "9\n",
      "no value\n"
     ]
    }
   ],
   "source": [
    "for i in range(10):\n",
    "    if i==10:\n",
    "        break\n",
    "    else:\n",
    "        print(i)\n",
    "else:\n",
    "    print(\"no value\")"
   ]
  },
  {
   "cell_type": "code",
   "execution_count": 53,
   "id": "85c53000-56dc-460a-a809-d5c25343c8e0",
   "metadata": {},
   "outputs": [
    {
     "name": "stdout",
     "output_type": "stream",
     "text": [
      "0\n",
      "1\n",
      "2\n",
      "3\n",
      "4\n",
      "no value\n"
     ]
    }
   ],
   "source": [
    "for i in range(5):\n",
    "    if i==5:\n",
    "        break\n",
    "    else:\n",
    "        print(i)\n",
    "else:\n",
    "    print(\"no value\")"
   ]
  },
  {
   "cell_type": "code",
   "execution_count": 56,
   "id": "7b95ab83-2b51-4488-8050-872030e538fb",
   "metadata": {},
   "outputs": [
    {
     "name": "stdout",
     "output_type": "stream",
     "text": [
      "my name is phani"
     ]
    }
   ],
   "source": [
    "text=\"my name is phani\"\n",
    "for i in text:\n",
    "    print(i,end=\"\")"
   ]
  },
  {
   "cell_type": "code",
   "execution_count": 59,
   "id": "8ce70d72-393b-47d8-8ad2-668f0a72ffab",
   "metadata": {},
   "outputs": [
    {
     "name": "stdout",
     "output_type": "stream",
     "text": [
      "[]\n"
     ]
    },
    {
     "name": "stdin",
     "output_type": "stream",
     "text": [
      "enter the value e\n"
     ]
    },
    {
     "name": "stdout",
     "output_type": "stream",
     "text": [
      "e\n"
     ]
    },
    {
     "name": "stdin",
     "output_type": "stream",
     "text": [
      "enter the value w\n"
     ]
    },
    {
     "name": "stdout",
     "output_type": "stream",
     "text": [
      "w\n"
     ]
    },
    {
     "name": "stdin",
     "output_type": "stream",
     "text": [
      "enter the value w\n"
     ]
    },
    {
     "name": "stdout",
     "output_type": "stream",
     "text": [
      "w\n"
     ]
    },
    {
     "name": "stdin",
     "output_type": "stream",
     "text": [
      "enter the value s\n"
     ]
    },
    {
     "name": "stdout",
     "output_type": "stream",
     "text": [
      "s\n"
     ]
    },
    {
     "name": "stdin",
     "output_type": "stream",
     "text": [
      "enter the value d\n"
     ]
    },
    {
     "name": "stdout",
     "output_type": "stream",
     "text": [
      "d\n"
     ]
    },
    {
     "name": "stdin",
     "output_type": "stream",
     "text": [
      "enter the value f\n"
     ]
    },
    {
     "name": "stdout",
     "output_type": "stream",
     "text": [
      "f\n"
     ]
    },
    {
     "name": "stdin",
     "output_type": "stream",
     "text": [
      "enter the value 5\n"
     ]
    },
    {
     "name": "stdout",
     "output_type": "stream",
     "text": [
      "5\n"
     ]
    },
    {
     "name": "stdin",
     "output_type": "stream",
     "text": [
      "enter the value 4\n"
     ]
    },
    {
     "name": "stdout",
     "output_type": "stream",
     "text": [
      "4\n"
     ]
    },
    {
     "name": "stdin",
     "output_type": "stream",
     "text": [
      "enter the value 32\n"
     ]
    },
    {
     "name": "stdout",
     "output_type": "stream",
     "text": [
      "32\n"
     ]
    },
    {
     "name": "stdin",
     "output_type": "stream",
     "text": [
      "enter the value \n"
     ]
    },
    {
     "name": "stdout",
     "output_type": "stream",
     "text": [
      "['e', 'w', 'w', 's', 'd', 'f', '5', '4', '32']\n"
     ]
    }
   ],
   "source": [
    "lines=[]\n",
    "print(lines)\n",
    "while True:\n",
    "    x=input(\"enter the value\")\n",
    "    if x:\n",
    "        \n",
    "        lines.append(x)\n",
    "        print(x)\n",
    "    else:\n",
    "        break\n",
    "print(lines)\n",
    "    "
   ]
  },
  {
   "cell_type": "code",
   "execution_count": null,
   "id": "ad214338-c4cc-418a-a32f-900a83bf02ed",
   "metadata": {},
   "outputs": [],
   "source": []
  }
 ],
 "metadata": {
  "kernelspec": {
   "display_name": "Python 3 (ipykernel)",
   "language": "python",
   "name": "python3"
  },
  "language_info": {
   "codemirror_mode": {
    "name": "ipython",
    "version": 3
   },
   "file_extension": ".py",
   "mimetype": "text/x-python",
   "name": "python",
   "nbconvert_exporter": "python",
   "pygments_lexer": "ipython3",
   "version": "3.11.4"
  }
 },
 "nbformat": 4,
 "nbformat_minor": 5
}
